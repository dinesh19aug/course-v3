{
  "nbformat": 4,
  "nbformat_minor": 0,
  "metadata": {
    "kernelspec": {
      "name": "python3",
      "display_name": "Python 3"
    },
    "colab": {
      "name": "lesson3-imdb.ipynb",
      "provenance": []
    },
    "accelerator": "GPU"
  },
  "cells": [
    {
      "cell_type": "markdown",
      "metadata": {
        "id": "FFCs5fJ7t6xQ",
        "colab_type": "text"
      },
      "source": [
        "# IMDB"
      ]
    },
    {
      "cell_type": "code",
      "metadata": {
        "id": "zGlxBrfvt6xW",
        "colab_type": "code",
        "colab": {}
      },
      "source": [
        "%reload_ext autoreload\n",
        "%autoreload 2\n",
        "%matplotlib inline"
      ],
      "execution_count": 0,
      "outputs": []
    },
    {
      "cell_type": "code",
      "metadata": {
        "id": "7u7yoRP3t6xl",
        "colab_type": "code",
        "colab": {}
      },
      "source": [
        "from fastai.text import *"
      ],
      "execution_count": 0,
      "outputs": []
    },
    {
      "cell_type": "markdown",
      "metadata": {
        "id": "F8ctBwWFt6xu",
        "colab_type": "text"
      },
      "source": [
        "## Preparing the data"
      ]
    },
    {
      "cell_type": "markdown",
      "metadata": {
        "id": "EwnF9s7Xt6xx",
        "colab_type": "text"
      },
      "source": [
        "First let's download the dataset we are going to study. The [dataset](http://ai.stanford.edu/~amaas/data/sentiment/) has been curated by Andrew Maas et al. and contains a total of 100,000 reviews on IMDB. 25,000 of them are labelled as positive and negative for training, another 25,000 are labelled for testing (in both cases they are highly polarized). The remaning 50,000 is an additional unlabelled data (but we will find a use for it nonetheless).\n",
        "\n",
        "We'll begin with a sample we've prepared for you, so that things run quickly before going over the full dataset."
      ]
    },
    {
      "cell_type": "code",
      "metadata": {
        "id": "s_Pb_ZVnt6x0",
        "colab_type": "code",
        "colab": {
          "base_uri": "https://localhost:8080/",
          "height": 52
        },
        "outputId": "a6183de6-d41b-4155-aa87-e945ddfef82f"
      },
      "source": [
        "path = untar_data(URLs.IMDB_SAMPLE)\n",
        "path.ls()"
      ],
      "execution_count": 4,
      "outputs": [
        {
          "output_type": "stream",
          "text": [
            "Downloading http://files.fast.ai/data/examples/imdb_sample\n"
          ],
          "name": "stdout"
        },
        {
          "output_type": "display_data",
          "data": {
            "text/html": [
              ""
            ],
            "text/plain": [
              "<IPython.core.display.HTML object>"
            ]
          },
          "metadata": {
            "tags": []
          }
        },
        {
          "output_type": "execute_result",
          "data": {
            "text/plain": [
              "[PosixPath('/root/.fastai/data/imdb_sample/texts.csv')]"
            ]
          },
          "metadata": {
            "tags": []
          },
          "execution_count": 4
        }
      ]
    },
    {
      "cell_type": "markdown",
      "metadata": {
        "id": "eLWSSC2Et6x-",
        "colab_type": "text"
      },
      "source": [
        "It only contains one csv file, let's have a look at it."
      ]
    },
    {
      "cell_type": "code",
      "metadata": {
        "id": "pU7Wujaot6yB",
        "colab_type": "code",
        "colab": {
          "base_uri": "https://localhost:8080/",
          "height": 363
        },
        "outputId": "c147ffba-5d53-421b-9441-a1dafb86a575"
      },
      "source": [
        "df = pd.read_csv(path/'texts.csv')\n",
        "df.head(10)"
      ],
      "execution_count": 5,
      "outputs": [
        {
          "output_type": "execute_result",
          "data": {
            "text/html": [
              "<div>\n",
              "<style scoped>\n",
              "    .dataframe tbody tr th:only-of-type {\n",
              "        vertical-align: middle;\n",
              "    }\n",
              "\n",
              "    .dataframe tbody tr th {\n",
              "        vertical-align: top;\n",
              "    }\n",
              "\n",
              "    .dataframe thead th {\n",
              "        text-align: right;\n",
              "    }\n",
              "</style>\n",
              "<table border=\"1\" class=\"dataframe\">\n",
              "  <thead>\n",
              "    <tr style=\"text-align: right;\">\n",
              "      <th></th>\n",
              "      <th>label</th>\n",
              "      <th>text</th>\n",
              "      <th>is_valid</th>\n",
              "    </tr>\n",
              "  </thead>\n",
              "  <tbody>\n",
              "    <tr>\n",
              "      <th>0</th>\n",
              "      <td>negative</td>\n",
              "      <td>Un-bleeping-believable! Meg Ryan doesn't even ...</td>\n",
              "      <td>False</td>\n",
              "    </tr>\n",
              "    <tr>\n",
              "      <th>1</th>\n",
              "      <td>positive</td>\n",
              "      <td>This is a extremely well-made film. The acting...</td>\n",
              "      <td>False</td>\n",
              "    </tr>\n",
              "    <tr>\n",
              "      <th>2</th>\n",
              "      <td>negative</td>\n",
              "      <td>Every once in a long while a movie will come a...</td>\n",
              "      <td>False</td>\n",
              "    </tr>\n",
              "    <tr>\n",
              "      <th>3</th>\n",
              "      <td>positive</td>\n",
              "      <td>Name just says it all. I watched this movie wi...</td>\n",
              "      <td>False</td>\n",
              "    </tr>\n",
              "    <tr>\n",
              "      <th>4</th>\n",
              "      <td>negative</td>\n",
              "      <td>This movie succeeds at being one of the most u...</td>\n",
              "      <td>False</td>\n",
              "    </tr>\n",
              "    <tr>\n",
              "      <th>5</th>\n",
              "      <td>negative</td>\n",
              "      <td>From the start, you know how this movie will e...</td>\n",
              "      <td>False</td>\n",
              "    </tr>\n",
              "    <tr>\n",
              "      <th>6</th>\n",
              "      <td>negative</td>\n",
              "      <td>There were a lot of truly great horror movies ...</td>\n",
              "      <td>False</td>\n",
              "    </tr>\n",
              "    <tr>\n",
              "      <th>7</th>\n",
              "      <td>negative</td>\n",
              "      <td>I was fortunate enough to meet George Pal (and...</td>\n",
              "      <td>False</td>\n",
              "    </tr>\n",
              "    <tr>\n",
              "      <th>8</th>\n",
              "      <td>negative</td>\n",
              "      <td>This film is the freshman effort of Stephanie ...</td>\n",
              "      <td>False</td>\n",
              "    </tr>\n",
              "    <tr>\n",
              "      <th>9</th>\n",
              "      <td>negative</td>\n",
              "      <td>Greg Davis and Bryan Daly take some crazed sta...</td>\n",
              "      <td>False</td>\n",
              "    </tr>\n",
              "  </tbody>\n",
              "</table>\n",
              "</div>"
            ],
            "text/plain": [
              "      label                                               text  is_valid\n",
              "0  negative  Un-bleeping-believable! Meg Ryan doesn't even ...     False\n",
              "1  positive  This is a extremely well-made film. The acting...     False\n",
              "2  negative  Every once in a long while a movie will come a...     False\n",
              "3  positive  Name just says it all. I watched this movie wi...     False\n",
              "4  negative  This movie succeeds at being one of the most u...     False\n",
              "5  negative  From the start, you know how this movie will e...     False\n",
              "6  negative  There were a lot of truly great horror movies ...     False\n",
              "7  negative  I was fortunate enough to meet George Pal (and...     False\n",
              "8  negative  This film is the freshman effort of Stephanie ...     False\n",
              "9  negative  Greg Davis and Bryan Daly take some crazed sta...     False"
            ]
          },
          "metadata": {
            "tags": []
          },
          "execution_count": 5
        }
      ]
    },
    {
      "cell_type": "code",
      "metadata": {
        "id": "L22eSD7Vt6yK",
        "colab_type": "code",
        "colab": {
          "base_uri": "https://localhost:8080/",
          "height": 54
        },
        "outputId": "858951cb-dd90-4b40-cb7a-b1c2e4c3b907"
      },
      "source": [
        "df['text'][1]"
      ],
      "execution_count": 6,
      "outputs": [
        {
          "output_type": "execute_result",
          "data": {
            "text/plain": [
              "'This is a extremely well-made film. The acting, script and camera-work are all first-rate. The music is good, too, though it is mostly early in the film, when things are still relatively cheery. There are no really superstars in the cast, though several faces will be familiar. The entire cast does an excellent job with the script.<br /><br />But it is hard to watch, because there is no good end to a situation like the one presented. It is now fashionable to blame the British for setting Hindus and Muslims against each other, and then cruelly separating them into two countries. There is some merit in this view, but it\\'s also true that no one forced Hindus and Muslims in the region to mistreat each other as they did around the time of partition. It seems more likely that the British simply saw the tensions between the religions and were clever enough to exploit them to their own ends.<br /><br />The result is that there is much cruelty and inhumanity in the situation and this is very unpleasant to remember and to see on the screen. But it is never painted as a black-and-white case. There is baseness and nobility on both sides, and also the hope for change in the younger generation.<br /><br />There is redemption of a sort, in the end, when Puro has to make a hard choice between a man who has ruined her life, but also truly loved her, and her family which has disowned her, then later come looking for her. But by that point, she has no option that is without great pain for her.<br /><br />This film carries the message that both Muslims and Hindus have their grave faults, and also that both can be dignified and caring people. The reality of partition makes that realisation all the more wrenching, since there can never be real reconciliation across the India/Pakistan border. In that sense, it is similar to \"Mr & Mrs Iyer\".<br /><br />In the end, we were glad to have seen the film, even though the resolution was heartbreaking. If the UK and US could deal with their own histories of racism with this kind of frankness, they would certainly be better off.'"
            ]
          },
          "metadata": {
            "tags": []
          },
          "execution_count": 6
        }
      ]
    },
    {
      "cell_type": "markdown",
      "metadata": {
        "id": "nhNAPlZFt6yR",
        "colab_type": "text"
      },
      "source": [
        "It contains one line per review, with the label ('negative' or 'positive'), the text and a flag to determine if it should be part of the validation set or the training set. If we ignore this flag, we can create a DataBunch containing this data in one line of code:"
      ]
    },
    {
      "cell_type": "code",
      "metadata": {
        "id": "CzVzl-Wlt6yT",
        "colab_type": "code",
        "colab": {
          "base_uri": "https://localhost:8080/",
          "height": 17
        },
        "outputId": "a17f2da5-0ab6-49e4-b877-b3a2e4e14738"
      },
      "source": [
        "data_lm = TextDataBunch.from_csv(path, 'texts.csv')"
      ],
      "execution_count": 7,
      "outputs": [
        {
          "output_type": "display_data",
          "data": {
            "text/html": [
              ""
            ],
            "text/plain": [
              "<IPython.core.display.HTML object>"
            ]
          },
          "metadata": {
            "tags": []
          }
        },
        {
          "output_type": "display_data",
          "data": {
            "text/html": [
              ""
            ],
            "text/plain": [
              "<IPython.core.display.HTML object>"
            ]
          },
          "metadata": {
            "tags": []
          }
        }
      ]
    },
    {
      "cell_type": "markdown",
      "metadata": {
        "id": "4zZ8fx0It6ya",
        "colab_type": "text"
      },
      "source": [
        "By executing this line a process was launched that took a bit of time. Let's dig a bit into it. Images could be fed (almost) directly into a model because they're just a big array of pixel values that are floats between 0 and 1. A text is composed of words, and we can't apply mathematical functions to them directly. We first have to convert them to numbers. This is done in two differents steps: tokenization and numericalization. A `TextDataBunch` does all of that behind the scenes for you.\n",
        "\n",
        "Before we delve into the explanations, let's take the time to save the things that were calculated."
      ]
    },
    {
      "cell_type": "code",
      "metadata": {
        "id": "1yDfQHVpt6yd",
        "colab_type": "code",
        "colab": {}
      },
      "source": [
        "data_lm.save()"
      ],
      "execution_count": 0,
      "outputs": []
    },
    {
      "cell_type": "markdown",
      "metadata": {
        "id": "QF5xeLcrt6yl",
        "colab_type": "text"
      },
      "source": [
        "Next time we launch this notebook, we can skip the cell above that took a bit of time (and that will take a lot more when you get to the full dataset) and load those results like this:"
      ]
    },
    {
      "cell_type": "code",
      "metadata": {
        "id": "C86sLpdet6yn",
        "colab_type": "code",
        "colab": {}
      },
      "source": [
        "data = load_data(path)"
      ],
      "execution_count": 0,
      "outputs": []
    },
    {
      "cell_type": "markdown",
      "metadata": {
        "id": "XGn2N4Pvt6yu",
        "colab_type": "text"
      },
      "source": [
        "### Tokenization"
      ]
    },
    {
      "cell_type": "markdown",
      "metadata": {
        "id": "MI4gSgaZt6yy",
        "colab_type": "text"
      },
      "source": [
        "The first step of processing we make the texts go through is to split the raw sentences into words, or more exactly tokens. The easiest way to do this would be to split the string on spaces, but we can be smarter:\n",
        "\n",
        "- we need to take care of punctuation\n",
        "- some words are contractions of two different words, like isn't or don't\n",
        "- we may need to clean some parts of our texts, if there's HTML code for instance\n",
        "\n",
        "To see what the tokenizer had done behind the scenes, let's have a look at a few texts in a batch."
      ]
    },
    {
      "cell_type": "code",
      "metadata": {
        "id": "N-_nsUZZt6y0",
        "colab_type": "code",
        "colab": {
          "base_uri": "https://localhost:8080/",
          "height": 380
        },
        "outputId": "a20b9394-0ffa-4eb2-fd10-6a6129242c9c"
      },
      "source": [
        "data = TextClasDataBunch.from_csv(path, 'texts.csv')\n",
        "data.show_batch()"
      ],
      "execution_count": 10,
      "outputs": [
        {
          "output_type": "display_data",
          "data": {
            "text/html": [
              ""
            ],
            "text/plain": [
              "<IPython.core.display.HTML object>"
            ]
          },
          "metadata": {
            "tags": []
          }
        },
        {
          "output_type": "display_data",
          "data": {
            "text/html": [
              ""
            ],
            "text/plain": [
              "<IPython.core.display.HTML object>"
            ]
          },
          "metadata": {
            "tags": []
          }
        },
        {
          "output_type": "display_data",
          "data": {
            "text/html": [
              "<table border=\"1\" class=\"dataframe\">\n",
              "  <thead>\n",
              "    <tr style=\"text-align: right;\">\n",
              "      <th>text</th>\n",
              "      <th>target</th>\n",
              "    </tr>\n",
              "  </thead>\n",
              "  <tbody>\n",
              "    <tr>\n",
              "      <td>xxbos xxmaj raising xxmaj victor xxmaj vargas : a xxmaj review \\n \\n  xxmaj you know , xxmaj raising xxmaj victor xxmaj vargas is like sticking your hands into a big , steaming bowl of xxunk . xxmaj it 's warm and gooey , but you 're not sure if it feels right . xxmaj try as i might , no matter how warm and gooey xxmaj raising xxmaj</td>\n",
              "      <td>negative</td>\n",
              "    </tr>\n",
              "    <tr>\n",
              "      <td>xxbos xxup the xxup shop xxup around xxup the xxup corner is one of the sweetest and most feel - good romantic comedies ever made . xxmaj there 's just no getting around that , and it 's hard to actually put one 's feeling for this film into words . xxmaj it 's not one of those films that tries too hard , nor does it come up with</td>\n",
              "      <td>positive</td>\n",
              "    </tr>\n",
              "    <tr>\n",
              "      <td>xxbos xxmaj now that xxmaj che(2008 ) has finished its relatively short xxmaj australian cinema run ( extremely limited xxunk screen in xxmaj sydney , after xxunk ) , i can xxunk join both xxunk of \" xxmaj at xxmaj the xxmaj movies \" in taking xxmaj steven xxmaj soderbergh to task . \\n \\n  xxmaj it 's usually satisfying to watch a film director change his style /</td>\n",
              "      <td>negative</td>\n",
              "    </tr>\n",
              "    <tr>\n",
              "      <td>xxbos xxmaj this film sat on my xxmaj tivo for weeks before i watched it . i dreaded a self - indulgent xxunk flick about relationships gone bad . i was wrong ; this was an xxunk xxunk into the screwed - up xxunk of xxmaj new xxmaj yorkers . \\n \\n  xxmaj the format is the same as xxmaj max xxmaj xxunk ' \" xxmaj la xxmaj ronde</td>\n",
              "      <td>positive</td>\n",
              "    </tr>\n",
              "    <tr>\n",
              "      <td>xxbos xxmaj many neglect that this is n't just a classic due to the fact that it 's the first xxup 3d game , or even the first xxunk - up . xxmaj it 's also one of the first stealth games , one of the xxunk definitely the first ) truly claustrophobic games , and just a pretty well - rounded gaming experience in general . xxmaj with graphics</td>\n",
              "      <td>positive</td>\n",
              "    </tr>\n",
              "  </tbody>\n",
              "</table>"
            ],
            "text/plain": [
              "<IPython.core.display.HTML object>"
            ]
          },
          "metadata": {
            "tags": []
          }
        }
      ]
    },
    {
      "cell_type": "markdown",
      "metadata": {
        "id": "JI1oY0jKt6y6",
        "colab_type": "text"
      },
      "source": [
        "The texts are truncated at 100 tokens for more readability. We can see that it did more than just split on space and punctuation symbols: \n",
        "- the \"'s\" are grouped together in one token\n",
        "- the contractions are separated like this: \"did\", \"n't\"\n",
        "- content has been cleaned for any HTML symbol and lower cased\n",
        "- there are several special tokens (all those that begin by xx), to replace unknown tokens (see below) or to introduce different text fields (here we only have one)."
      ]
    },
    {
      "cell_type": "markdown",
      "metadata": {
        "id": "J6bBg_Gjt6y7",
        "colab_type": "text"
      },
      "source": [
        "### Numericalization"
      ]
    },
    {
      "cell_type": "markdown",
      "metadata": {
        "id": "MMdEsfUdt6y9",
        "colab_type": "text"
      },
      "source": [
        "Once we have extracted tokens from our texts, we convert to integers by creating a list of all the words used. We only keep the ones that appear at least twice with a maximum vocabulary size of 60,000 (by default) and replace the ones that don't make the cut by the unknown token `UNK`.\n",
        "\n",
        "The correspondance from ids to tokens is stored in the `vocab` attribute of our datasets, in a dictionary called `itos` (for int to string)."
      ]
    },
    {
      "cell_type": "code",
      "metadata": {
        "id": "2a296svzt6zA",
        "colab_type": "code",
        "colab": {},
        "outputId": "c9a51770-6d11-40a4-f0be-5b6c3f1e1265"
      },
      "source": [
        "data.vocab.itos[:10]"
      ],
      "execution_count": 0,
      "outputs": [
        {
          "output_type": "execute_result",
          "data": {
            "text/plain": [
              "['xxunk',\n",
              " 'xxpad',\n",
              " 'xxbos',\n",
              " 'xxfld',\n",
              " 'xxmaj',\n",
              " 'xxup',\n",
              " 'xxrep',\n",
              " 'xxwrep',\n",
              " 'the',\n",
              " '.']"
            ]
          },
          "metadata": {
            "tags": []
          },
          "execution_count": 0
        }
      ]
    },
    {
      "cell_type": "markdown",
      "metadata": {
        "id": "Ht6mevS-t6zF",
        "colab_type": "text"
      },
      "source": [
        "And if we look at what a what's in our datasets, we'll see the tokenized text as a representation:"
      ]
    },
    {
      "cell_type": "code",
      "metadata": {
        "id": "gmEDM_LDt6zI",
        "colab_type": "code",
        "colab": {
          "base_uri": "https://localhost:8080/",
          "height": 228
        },
        "outputId": "13ee3e50-645c-4549-a5b0-d0dab92bbd09"
      },
      "source": [
        "data.train_ds[0][0]"
      ],
      "execution_count": 24,
      "outputs": [
        {
          "output_type": "execute_result",
          "data": {
            "text/plain": [
              "Text xxbos xxmaj as horror fans we all know that blind xxunk are a crap - shoot . xxmaj sometimes we find a real gem , but many times we find that the film we 've just spent our hard earned money on is nothing more than a putrid xxunk made worse by the completely xxunk rave reviews and film fest awards listed on the box . xxmaj such is the case with xxmaj five xxmaj across the xxmaj eyes ( a title i 'm sure is a double xxunk referring to both the films budget and the xxunk anyone watching it might have to using all five fingers to xxunk their eyes out ) . \n",
              " \n",
              "  xxmaj the story , or , at least what the * xxunk * writers think passes for one , centers on a group of teen girls who unwisely decide to go on a xxunk xxunk late at night after leaving a football game and run afoul of a crazy woman who plays cat and mouse with them as punishment for what she thinks the girls found in her car after a xxunk - xxunk in a gas station parking lot . \n",
              " \n",
              "  xxmaj in fairness , it 's an interesting idea . xxmaj some of the best horrors have very simple story lines . xxmaj it 's in the execution of xxmaj five xxmaj across the xxmaj eyes that this idea falls flat . xxmaj the film tries to be a cross between xxmaj the xxmaj blair xxmaj witch xxmaj project with its shaky camera work and xxmaj the xxmaj texas xxmaj chainsaw xxmaj massacre in its bare - bones approach to the material but succeeds at being neither . xxmaj what we get instead are redundant scenes of chase , torture , release ; chase torture , release , in that order for xxunk minutes with long interludes of bitching , xxunk , and incoherent rambling acting as plenty of padding in - between chase sequences . \n",
              " \n",
              "  xxmaj the look of the film is incredibly grainy and dark , which , in a better made film might have xxunk the tension and the realism . xxmaj here it 's merely annoying . xxmaj the characters are undeveloped and the viewer is hard - pressed to find anything to sympathize with them . xxmaj one character stops to get a first - aid xxunk and tend to some xxunk on her face while xxunk heard in the background indicate her friends may be getting killed . xxmaj another girl xxunk hilariously dumb lines like \" xxmaj do n't go out there , she 'll get you , if she gets you she 'll kill you and if she kill 's you you 're dead \" . \n",
              " \n",
              "  xxmaj it was an xxunk from xxmaj xxunk magazine and xxmaj xxunk listed on the box that compelled me to check this one out . xxmaj talk about a fake xxunk ! xxmaj perhaps my expectations would have been met had this been in the comedy section . i 'm all for low - budget xxmaj indie horror but this one takes the crap - cake . xxmaj give xxmaj five xxmaj across the xxmaj eyes ( or xxup fate ; get it ? ) a pass . \n",
              " \n",
              "  xxunk gives xxup fate 1 xxunk out of five /"
            ]
          },
          "metadata": {
            "tags": []
          },
          "execution_count": 24
        }
      ]
    },
    {
      "cell_type": "markdown",
      "metadata": {
        "id": "RP69V9GFt6zP",
        "colab_type": "text"
      },
      "source": [
        "But the underlying data is all numbers"
      ]
    },
    {
      "cell_type": "code",
      "metadata": {
        "id": "vGZr5djPt6zR",
        "colab_type": "code",
        "colab": {
          "base_uri": "https://localhost:8080/",
          "height": 34
        },
        "outputId": "9523ca9a-c38e-4235-c265-ac390ed7f9e4"
      },
      "source": [
        "data.train_ds[0][0].data[:10]"
      ],
      "execution_count": 25,
      "outputs": [
        {
          "output_type": "execute_result",
          "data": {
            "text/plain": [
              "array([   2,    5,   28,  233,  481,   96,   47,  146,   21, 2716])"
            ]
          },
          "metadata": {
            "tags": []
          },
          "execution_count": 25
        }
      ]
    },
    {
      "cell_type": "markdown",
      "metadata": {
        "id": "-780FP_Rt6zX",
        "colab_type": "text"
      },
      "source": [
        "### With the data block API"
      ]
    },
    {
      "cell_type": "markdown",
      "metadata": {
        "id": "ql_DiG8xt6zZ",
        "colab_type": "text"
      },
      "source": [
        "We can use the data block API with NLP and have a lot more flexibility than what the default factory methods offer. In the previous example for instance, the data was randomly split between train and validation instead of reading the third column of the csv.\n",
        "\n",
        "With the data block API though, we have to manually call the tokenize and numericalize steps. This allows more flexibility, and if you're not using the defaults from fastai, the various arguments to pass will appear in the step they're revelant, so it'll be more readable."
      ]
    },
    {
      "cell_type": "code",
      "metadata": {
        "id": "IZWOQGapt6za",
        "colab_type": "code",
        "colab": {
          "base_uri": "https://localhost:8080/",
          "height": 17
        },
        "outputId": "33d1dca0-14ad-44a8-ed76-c21eb39db200"
      },
      "source": [
        "data = (TextList.from_csv(path, 'texts.csv', cols='text')\n",
        "                .split_from_df(col=2)\n",
        "                .label_from_df(cols=0)\n",
        "                .databunch())"
      ],
      "execution_count": 11,
      "outputs": [
        {
          "output_type": "display_data",
          "data": {
            "text/html": [
              ""
            ],
            "text/plain": [
              "<IPython.core.display.HTML object>"
            ]
          },
          "metadata": {
            "tags": []
          }
        },
        {
          "output_type": "display_data",
          "data": {
            "text/html": [
              ""
            ],
            "text/plain": [
              "<IPython.core.display.HTML object>"
            ]
          },
          "metadata": {
            "tags": []
          }
        }
      ]
    },
    {
      "cell_type": "code",
      "metadata": {
        "id": "fLtq4hs99Y8t",
        "colab_type": "code",
        "colab": {
          "base_uri": "https://localhost:8080/",
          "height": 54
        },
        "outputId": "49885c2e-91a2-457a-e41c-2340d233a105"
      },
      "source": [
        "data.train_ds[0][0]"
      ],
      "execution_count": 12,
      "outputs": [
        {
          "output_type": "execute_result",
          "data": {
            "text/plain": [
              "Text xxbos xxmaj un - xxunk - believable ! xxmaj meg xxmaj ryan does n't even look her usual xxunk lovable self in this , which normally makes me forgive her shallow xxunk acting xxunk . xxmaj hard to believe she was the producer on this dog . xxmaj plus xxmaj kevin xxmaj kline : what kind of suicide trip has his career been on ? xxmaj xxunk ... xxmaj xxunk ! ! ! xxmaj finally this was directed by the guy who did xxmaj big xxmaj xxunk ? xxmaj must be a replay of xxmaj jonestown - hollywood style . xxmaj xxunk !"
            ]
          },
          "metadata": {
            "tags": []
          },
          "execution_count": 12
        }
      ]
    },
    {
      "cell_type": "markdown",
      "metadata": {
        "id": "dkVBpHpnt6zf",
        "colab_type": "text"
      },
      "source": [
        "## Language model"
      ]
    },
    {
      "cell_type": "markdown",
      "metadata": {
        "id": "5IBhYVlTt6zh",
        "colab_type": "text"
      },
      "source": [
        "Note that language models can use a lot of GPU, so you may need to decrease batchsize here."
      ]
    },
    {
      "cell_type": "code",
      "metadata": {
        "id": "TjBxwakQt6zk",
        "colab_type": "code",
        "colab": {}
      },
      "source": [
        "bs=48"
      ],
      "execution_count": 0,
      "outputs": []
    },
    {
      "cell_type": "markdown",
      "metadata": {
        "id": "BROtgZmnt6zp",
        "colab_type": "text"
      },
      "source": [
        "Now let's grab the full dataset for what follows."
      ]
    },
    {
      "cell_type": "code",
      "metadata": {
        "id": "00DqERHbt6zr",
        "colab_type": "code",
        "colab": {
          "base_uri": "https://localhost:8080/",
          "height": 156
        },
        "outputId": "16eedd59-0fda-4187-b88e-7b42c3076beb"
      },
      "source": [
        "path = untar_data(URLs.IMDB)\n",
        "path.ls()"
      ],
      "execution_count": 14,
      "outputs": [
        {
          "output_type": "stream",
          "text": [
            "Downloading https://s3.amazonaws.com/fast-ai-nlp/imdb\n"
          ],
          "name": "stdout"
        },
        {
          "output_type": "display_data",
          "data": {
            "text/html": [
              ""
            ],
            "text/plain": [
              "<IPython.core.display.HTML object>"
            ]
          },
          "metadata": {
            "tags": []
          }
        },
        {
          "output_type": "execute_result",
          "data": {
            "text/plain": [
              "[PosixPath('/root/.fastai/data/imdb/imdb.vocab'),\n",
              " PosixPath('/root/.fastai/data/imdb/unsup'),\n",
              " PosixPath('/root/.fastai/data/imdb/test'),\n",
              " PosixPath('/root/.fastai/data/imdb/README'),\n",
              " PosixPath('/root/.fastai/data/imdb/tmp_lm'),\n",
              " PosixPath('/root/.fastai/data/imdb/tmp_clas'),\n",
              " PosixPath('/root/.fastai/data/imdb/train')]"
            ]
          },
          "metadata": {
            "tags": []
          },
          "execution_count": 14
        }
      ]
    },
    {
      "cell_type": "code",
      "metadata": {
        "id": "8zZFECN5t6z-",
        "colab_type": "code",
        "colab": {
          "base_uri": "https://localhost:8080/",
          "height": 86
        },
        "outputId": "1af81af0-3a15-41f1-f88a-303f46623e67"
      },
      "source": [
        "(path/'train').ls()"
      ],
      "execution_count": 15,
      "outputs": [
        {
          "output_type": "execute_result",
          "data": {
            "text/plain": [
              "[PosixPath('/root/.fastai/data/imdb/train/labeledBow.feat'),\n",
              " PosixPath('/root/.fastai/data/imdb/train/unsupBow.feat'),\n",
              " PosixPath('/root/.fastai/data/imdb/train/neg'),\n",
              " PosixPath('/root/.fastai/data/imdb/train/pos')]"
            ]
          },
          "metadata": {
            "tags": []
          },
          "execution_count": 15
        }
      ]
    },
    {
      "cell_type": "markdown",
      "metadata": {
        "id": "icyFECLLt60C",
        "colab_type": "text"
      },
      "source": [
        "The reviews are in a training and test set following an imagenet structure. The only difference is that there is an `unsup` folder on top of `train` and `test` that contains the unlabelled data.\n",
        "\n",
        "We're not going to train a model that classifies the reviews from scratch. Like in computer vision, we'll use a model pretrained on a bigger dataset (a cleaned subset of wikipedia called [wikitext-103](https://einstein.ai/research/blog/the-wikitext-long-term-dependency-language-modeling-dataset)). That model has been trained to guess what the next word is, its input being all the previous words. It has a recurrent structure and a hidden state that is updated each time it sees a new word. This hidden state thus contains information about the sentence up to that point.\n",
        "\n",
        "We are going to use that 'knowledge' of the English language to build our classifier, but first, like for computer vision, we need to fine-tune the pretrained model to our particular dataset. Because the English of the reviews left by people on IMDB isn't the same as the English of wikipedia, we'll need to adjust the parameters of our model by a little bit. Plus there might be some words that would be extremely common in the reviews dataset but would be barely present in wikipedia, and therefore might not be part of the vocabulary the model was trained on."
      ]
    },
    {
      "cell_type": "markdown",
      "metadata": {
        "id": "plnB7w3It60E",
        "colab_type": "text"
      },
      "source": [
        "This is where the unlabelled data is going to be useful to us, as we can use it to fine-tune our model. Let's create our data object with the data block API (next line takes a few minutes)."
      ]
    },
    {
      "cell_type": "code",
      "metadata": {
        "id": "aTnS-R9tt60H",
        "colab_type": "code",
        "colab": {
          "base_uri": "https://localhost:8080/",
          "height": 17
        },
        "outputId": "decdea5f-017a-4bca-db9d-845b45d65e03"
      },
      "source": [
        "data_lm = (TextList.from_folder(path)\n",
        "           #Inputs: all the text files in path\n",
        "            .filter_by_folder(include=['train', 'test', 'unsup']) \n",
        "           #We may have other temp folders that contain text files so we only keep what's in train and test\n",
        "            .split_by_rand_pct(0.1)\n",
        "           #We randomly split and keep 10% (10,000 reviews) for validation\n",
        "            .label_for_lm()           \n",
        "           #We want to do a language model so we label accordingly\n",
        "            .databunch(bs=bs))\n",
        "data_lm.save('data_lm.pkl')"
      ],
      "execution_count": 16,
      "outputs": [
        {
          "output_type": "display_data",
          "data": {
            "text/html": [
              ""
            ],
            "text/plain": [
              "<IPython.core.display.HTML object>"
            ]
          },
          "metadata": {
            "tags": []
          }
        },
        {
          "output_type": "display_data",
          "data": {
            "text/html": [
              ""
            ],
            "text/plain": [
              "<IPython.core.display.HTML object>"
            ]
          },
          "metadata": {
            "tags": []
          }
        }
      ]
    },
    {
      "cell_type": "markdown",
      "metadata": {
        "id": "LZ01ys_Et60N",
        "colab_type": "text"
      },
      "source": [
        "We have to use a special kind of `TextDataBunch` for the language model, that ignores the labels (that's why we put 0 everywhere), will shuffle the texts at each epoch before concatenating them all together (only for training, we don't shuffle for the validation set) and will send batches that read that text in order with targets that are the next word in the sentence.\n",
        "\n",
        "The line before being a bit long, we want to load quickly the final ids by using the following cell."
      ]
    },
    {
      "cell_type": "code",
      "metadata": {
        "id": "1Dhb9Lqlt60O",
        "colab_type": "code",
        "colab": {}
      },
      "source": [
        "data_lm = load_data(path, 'data_lm.pkl', bs=bs)"
      ],
      "execution_count": 0,
      "outputs": []
    },
    {
      "cell_type": "code",
      "metadata": {
        "id": "UQnjH4DOt60S",
        "colab_type": "code",
        "colab": {
          "base_uri": "https://localhost:8080/",
          "height": 380
        },
        "outputId": "cf2a271e-f02e-42de-fd4a-046c71461c88"
      },
      "source": [
        "data_lm.show_batch()"
      ],
      "execution_count": 18,
      "outputs": [
        {
          "output_type": "display_data",
          "data": {
            "text/html": [
              "<table border=\"1\" class=\"dataframe\">\n",
              "  <thead>\n",
              "    <tr style=\"text-align: right;\">\n",
              "      <th>idx</th>\n",
              "      <th>text</th>\n",
              "    </tr>\n",
              "  </thead>\n",
              "  <tbody>\n",
              "    <tr>\n",
              "      <td>0</td>\n",
              "      <td>to decide if people are xxup lds or not . xxmaj you have two guys on bikes in white shirts and ties ( obviously missionaries ) who are bug xxunk ? xxmaj you have an xxmaj idaho community with everyone being brother and sister , but they are some kind of protestants ? xxmaj you can also see every plot twist coming from a mile away ( such as where</td>\n",
              "    </tr>\n",
              "    <tr>\n",
              "      <td>1</td>\n",
              "      <td>. \\n \\n  xxmaj according to imdb , the budget was $ 50,000,000 . xxmaj if i had my xxunk , i would have rather seen 10 $ 5,000,000 independent art house movies . \\n \\n  xxmaj the xxmaj black xxmaj dahlia appears to be another example of the xxmaj hollywood suits ' inability to invest huge sums of money intelligently . i suppose next it will be</td>\n",
              "    </tr>\n",
              "    <tr>\n",
              "      <td>2</td>\n",
              "      <td>xxunk , xxmaj xxunk xxmaj xxunk , xxmaj xxunk , xxmaj the xxmaj great xxmaj gambler , xxmaj xxunk xxmaj xxunk xxmaj jo xxmaj piya xxmaj man xxmaj xxunk , xxmaj geet xxmaj xxunk xxmaj chal , xxmaj teen xxmaj deviyaan , etc.etc . i became his greatest fan after watching xxmaj kati xxmaj patang . xxmaj the contribution of the versatile xxmaj gaur is very big in making xxmaj</td>\n",
              "    </tr>\n",
              "    <tr>\n",
              "      <td>3</td>\n",
              "      <td>initially it deliberately takes very little time to set the basic premise of the story , but then after dragging out the middle section of the story , the final series of events seem to pass at a frankly ludicrous pace . xxmaj little time is taken to explore motives or explain events and as a result potentially dramatic scenes are given little context . xxmaj one reviewer was surprised</td>\n",
              "    </tr>\n",
              "    <tr>\n",
              "      <td>4</td>\n",
              "      <td>xxmaj freddy xxmaj vs xxmaj ghostbusters ) \\n \\n  xxmaj robocop - 4 extra films ( xxmaj robocop : xxmaj prime xxmaj directives : xxmaj dark xxmaj justice , xxmaj meltdown , xxmaj xxunk &amp; xxmaj burn , xxmaj resurrection ) \\n \\n  xxmaj freddy - 1 upcoming re - imagining / remake \\n \\n  xxmaj robocop - 1 upcoming re - imagining / remake \\n \\n</td>\n",
              "    </tr>\n",
              "  </tbody>\n",
              "</table>"
            ],
            "text/plain": [
              "<IPython.core.display.HTML object>"
            ]
          },
          "metadata": {
            "tags": []
          }
        }
      ]
    },
    {
      "cell_type": "markdown",
      "metadata": {
        "id": "CuPGL6ibt60X",
        "colab_type": "text"
      },
      "source": [
        "We can then put this in a learner object very easily with a model loaded with the pretrained weights. They'll be downloaded the first time you'll execute the following line and stored in `~/.fastai/models/` (or elsewhere if you specified different paths in your config file)."
      ]
    },
    {
      "cell_type": "code",
      "metadata": {
        "id": "q1xzlt_9D6_t",
        "colab_type": "code",
        "colab": {
          "base_uri": "https://localhost:8080/",
          "height": 54
        },
        "outputId": "4e1afa0d-5cd2-4af5-8ecb-e6a9eae9236f"
      },
      "source": [
        "data_lm.train_dl"
      ],
      "execution_count": 19,
      "outputs": [
        {
          "output_type": "execute_result",
          "data": {
            "text/plain": [
              "DeviceDataLoader(dl=<torch.utils.data.dataloader.DataLoader object at 0x7fa294e29fd0>, device=device(type='cuda'), tfms=[], collate_fn=<function data_collate at 0x7fa33d038730>)"
            ]
          },
          "metadata": {
            "tags": []
          },
          "execution_count": 19
        }
      ]
    },
    {
      "cell_type": "code",
      "metadata": {
        "id": "rKOb5C-ut60X",
        "colab_type": "code",
        "colab": {
          "base_uri": "https://localhost:8080/",
          "height": 34
        },
        "outputId": "ee18a7d4-c7a6-449c-ebb7-a29b3e84ca07"
      },
      "source": [
        "learn = language_model_learner(data_lm, AWD_LSTM, drop_mult=0.3)"
      ],
      "execution_count": 20,
      "outputs": [
        {
          "output_type": "stream",
          "text": [
            "Downloading https://s3.amazonaws.com/fast-ai-modelzoo/wt103-fwd\n"
          ],
          "name": "stdout"
        },
        {
          "output_type": "display_data",
          "data": {
            "text/html": [
              ""
            ],
            "text/plain": [
              "<IPython.core.display.HTML object>"
            ]
          },
          "metadata": {
            "tags": []
          }
        }
      ]
    },
    {
      "cell_type": "code",
      "metadata": {
        "id": "CALTW-bht60c",
        "colab_type": "code",
        "colab": {
          "base_uri": "https://localhost:8080/",
          "height": 34
        },
        "outputId": "b4fe29ca-8abf-44ab-ba4e-564e2e16df7f"
      },
      "source": [
        "learn.lr_find()"
      ],
      "execution_count": 21,
      "outputs": [
        {
          "output_type": "display_data",
          "data": {
            "text/html": [
              ""
            ],
            "text/plain": [
              "<IPython.core.display.HTML object>"
            ]
          },
          "metadata": {
            "tags": []
          }
        },
        {
          "output_type": "stream",
          "text": [
            "LR Finder is complete, type {learner_name}.recorder.plot() to see the graph.\n"
          ],
          "name": "stdout"
        }
      ]
    },
    {
      "cell_type": "code",
      "metadata": {
        "id": "zhefLkWVt60l",
        "colab_type": "code",
        "colab": {
          "base_uri": "https://localhost:8080/",
          "height": 282
        },
        "outputId": "04119a56-46e9-4c74-ff24-026b1c651cc9"
      },
      "source": [
        "learn.recorder.plot(skip_end=15)"
      ],
      "execution_count": 22,
      "outputs": [
        {
          "output_type": "display_data",
          "data": {
            "image/png": "[encoded data removed]",
            "text/plain": [
              "<Figure size 432x288 with 1 Axes>"
            ]
          },
          "metadata": {
            "tags": []
          }
        }
      ]
    },
    {
      "cell_type": "code",
      "metadata": {
        "id": "wFLAKPGGt60q",
        "colab_type": "code",
        "colab": {
          "base_uri": "https://localhost:8080/",
          "height": 81
        },
        "outputId": "567c3dc8-459f-4497-bdb3-bc48fb33eeb8"
      },
      "source": [
        "learn.fit_one_cycle(1, 1e-2, moms=(0.8,0.7))"
      ],
      "execution_count": 23,
      "outputs": [
        {
          "output_type": "display_data",
          "data": {
            "text/html": [
              "<table border=\"1\" class=\"dataframe\">\n",
              "  <thead>\n",
              "    <tr style=\"text-align: left;\">\n",
              "      <th>epoch</th>\n",
              "      <th>train_loss</th>\n",
              "      <th>valid_loss</th>\n",
              "      <th>accuracy</th>\n",
              "      <th>time</th>\n",
              "    </tr>\n",
              "  </thead>\n",
              "  <tbody>\n",
              "    <tr>\n",
              "      <td>0</td>\n",
              "      <td>4.149392</td>\n",
              "      <td>4.023761</td>\n",
              "      <td>0.295137</td>\n",
              "      <td>23:43</td>\n",
              "    </tr>\n",
              "  </tbody>\n",
              "</table>"
            ],
            "text/plain": [
              "<IPython.core.display.HTML object>"
            ]
          },
          "metadata": {
            "tags": []
          }
        }
      ]
    },
    {
      "cell_type": "code",
      "metadata": {
        "id": "9YdFmjCAt60u",
        "colab_type": "code",
        "colab": {}
      },
      "source": [
        "learn.save('fit_head')"
      ],
      "execution_count": 0,
      "outputs": []
    },
    {
      "cell_type": "code",
      "metadata": {
        "id": "Hhw2xIPVt60y",
        "colab_type": "code",
        "colab": {}
      },
      "source": [
        "learn.load('fit_head');"
      ],
      "execution_count": 0,
      "outputs": []
    },
    {
      "cell_type": "markdown",
      "metadata": {
        "id": "edwlAKett602",
        "colab_type": "text"
      },
      "source": [
        "To complete the fine-tuning, we can then unfeeze and launch a new training."
      ]
    },
    {
      "cell_type": "code",
      "metadata": {
        "id": "5y-JQNrDt604",
        "colab_type": "code",
        "colab": {}
      },
      "source": [
        "learn.unfreeze()"
      ],
      "execution_count": 0,
      "outputs": []
    },
    {
      "cell_type": "code",
      "metadata": {
        "id": "yS1mc01qt607",
        "colab_type": "code",
        "colab": {
          "base_uri": "https://localhost:8080/",
          "height": 221
        },
        "outputId": "dd468f06-ac72-45fd-8650-46e5614f2842"
      },
      "source": [
        "learn.fit_one_cycle(10, 1e-3, moms=(0.8,0.7))"
      ],
      "execution_count": 0,
      "outputs": [
        {
          "output_type": "display_data",
          "data": {
            "text/html": [
              "\n",
              "    <div>\n",
              "        <style>\n",
              "            /* Turns off some styling */\n",
              "            progress {\n",
              "                /* gets rid of default border in Firefox and Opera. */\n",
              "                border: none;\n",
              "                /* Needs to be in here for Safari polyfill so background images work as expected. */\n",
              "                background-size: auto;\n",
              "            }\n",
              "            .progress-bar-interrupted, .progress-bar-interrupted::-webkit-progress-bar {\n",
              "                background: #F44336;\n",
              "            }\n",
              "        </style>\n",
              "      <progress value='4' class='' max='10', style='width:300px; height:20px; vertical-align: middle;'></progress>\n",
              "      40.00% [4/10 24:21<36:31]\n",
              "    </div>\n",
              "    \n",
              "<table border=\"1\" class=\"dataframe\">\n",
              "  <thead>\n",
              "    <tr style=\"text-align: left;\">\n",
              "      <th>epoch</th>\n",
              "      <th>train_loss</th>\n",
              "      <th>valid_loss</th>\n",
              "      <th>accuracy</th>\n",
              "      <th>time</th>\n",
              "    </tr>\n",
              "  </thead>\n",
              "  <tbody>\n",
              "    <tr>\n",
              "      <td>0</td>\n",
              "      <td>0.136343</td>\n",
              "      <td>0.150040</td>\n",
              "      <td>0.945520</td>\n",
              "      <td>06:13</td>\n",
              "    </tr>\n",
              "    <tr>\n",
              "      <td>1</td>\n",
              "      <td>0.141180</td>\n",
              "      <td>0.154130</td>\n",
              "      <td>0.943720</td>\n",
              "      <td>06:11</td>\n",
              "    </tr>\n",
              "    <tr>\n",
              "      <td>2</td>\n",
              "      <td>0.116447</td>\n",
              "      <td>0.163742</td>\n",
              "      <td>0.943880</td>\n",
              "      <td>05:53</td>\n",
              "    </tr>\n",
              "    <tr>\n",
              "      <td>3</td>\n",
              "      <td>0.118765</td>\n",
              "      <td>0.165661</td>\n",
              "      <td>0.940120</td>\n",
              "      <td>06:03</td>\n",
              "    </tr>\n",
              "  </tbody>\n",
              "</table><p>\n",
              "\n",
              "    <div>\n",
              "        <style>\n",
              "            /* Turns off some styling */\n",
              "            progress {\n",
              "                /* gets rid of default border in Firefox and Opera. */\n",
              "                border: none;\n",
              "                /* Needs to be in here for Safari polyfill so background images work as expected. */\n",
              "                background-size: auto;\n",
              "            }\n",
              "            .progress-bar-interrupted, .progress-bar-interrupted::-webkit-progress-bar {\n",
              "                background: #F44336;\n",
              "            }\n",
              "        </style>\n",
              "      <progress value='173' class='' max='521', style='width:300px; height:20px; vertical-align: middle;'></progress>\n",
              "      33.21% [173/521 00:46<01:33]\n",
              "    </div>\n",
              "    "
            ],
            "text/plain": [
              "<IPython.core.display.HTML object>"
            ]
          },
          "metadata": {
            "tags": []
          }
        }
      ]
    },
    {
      "cell_type": "code",
      "metadata": {
        "id": "i7nhwmoot60-",
        "colab_type": "code",
        "colab": {}
      },
      "source": [
        "learn.save('fine_tuned')"
      ],
      "execution_count": 0,
      "outputs": []
    },
    {
      "cell_type": "markdown",
      "metadata": {
        "id": "kzDtt1GFt61C",
        "colab_type": "text"
      },
      "source": [
        "How good is our model? Well let's try to see what it predicts after a few given words."
      ]
    },
    {
      "cell_type": "code",
      "metadata": {
        "id": "VD9CVPXit61D",
        "colab_type": "code",
        "colab": {}
      },
      "source": [
        "learn.load('fine_tuned');"
      ],
      "execution_count": 0,
      "outputs": []
    },
    {
      "cell_type": "code",
      "metadata": {
        "id": "OUrkrM59t61H",
        "colab_type": "code",
        "colab": {}
      },
      "source": [
        "TEXT = \"I liked this movie because\"\n",
        "N_WORDS = 40\n",
        "N_SENTENCES = 2"
      ],
      "execution_count": 0,
      "outputs": []
    },
    {
      "cell_type": "code",
      "metadata": {
        "id": "SRl3z8WIt61L",
        "colab_type": "code",
        "colab": {
          "base_uri": "https://localhost:8080/",
          "height": 72
        },
        "outputId": "b9b1f6dd-b016-453b-b7bc-e1a24d0f3ac3"
      },
      "source": [
        "print(\"\\n\".join(learn.predict(TEXT, N_WORDS, temperature=0.75) for _ in range(N_SENTENCES)))"
      ],
      "execution_count": 32,
      "outputs": [
        {
          "output_type": "stream",
          "text": [
            "I liked this movie because it 's turned out to be a great movie , but in the end it really did n't bother me . It 's hard to believe that if i did n't like it , i would have felt that\n",
            "I liked this movie because it was a big screen movie with a great cast , good direction and a decent plot . The acting was superb , the sparks between Likeable Guy and Jennifer Jones seem very intimate .\n"
          ],
          "name": "stdout"
        }
      ]
    },
    {
      "cell_type": "markdown",
      "metadata": {
        "id": "oL5eLxegt61O",
        "colab_type": "text"
      },
      "source": [
        "We have to save not only the model, but also its encoder, the part that's responsible for creating and updating the hidden state. For the next part, we don't care about the part that tries to guess the next word."
      ]
    },
    {
      "cell_type": "code",
      "metadata": {
        "id": "ymVU9nqtt61P",
        "colab_type": "code",
        "colab": {}
      },
      "source": [
        "learn.save_encoder('fine_tuned_enc')"
      ],
      "execution_count": 0,
      "outputs": []
    },
    {
      "cell_type": "markdown",
      "metadata": {
        "id": "0GzOwqyjt61S",
        "colab_type": "text"
      },
      "source": [
        "## Classifier"
      ]
    },
    {
      "cell_type": "markdown",
      "metadata": {
        "id": "IkXjikfGt61U",
        "colab_type": "text"
      },
      "source": [
        "Now, we'll create a new data object that only grabs the labelled data and keeps those labels. Again, this line takes a bit of time."
      ]
    },
    {
      "cell_type": "code",
      "metadata": {
        "id": "FOtMtfMCt61W",
        "colab_type": "code",
        "colab": {}
      },
      "source": [
        "path = untar_data(URLs.IMDB)"
      ],
      "execution_count": 0,
      "outputs": []
    },
    {
      "cell_type": "code",
      "metadata": {
        "id": "REdhqKqkt61a",
        "colab_type": "code",
        "colab": {
          "base_uri": "https://localhost:8080/",
          "height": 17
        },
        "outputId": "f3a42edb-8b3b-4e79-e35a-a493ebb5f444"
      },
      "source": [
        "data_clas = (TextList.from_folder(path, vocab=data_lm.vocab)\n",
        "             #grab all the text files in path\n",
        "             .split_by_folder(valid='test')\n",
        "             #split by train and valid folder (that only keeps 'train' and 'test' so no need to filter)\n",
        "             .label_from_folder(classes=['neg', 'pos'])\n",
        "             #label them all with their folders\n",
        "             .databunch(bs=bs))\n",
        "\n",
        "data_clas.save('data_clas.pkl')"
      ],
      "execution_count": 35,
      "outputs": [
        {
          "output_type": "display_data",
          "data": {
            "text/html": [
              ""
            ],
            "text/plain": [
              "<IPython.core.display.HTML object>"
            ]
          },
          "metadata": {
            "tags": []
          }
        },
        {
          "output_type": "display_data",
          "data": {
            "text/html": [
              ""
            ],
            "text/plain": [
              "<IPython.core.display.HTML object>"
            ]
          },
          "metadata": {
            "tags": []
          }
        }
      ]
    },
    {
      "cell_type": "code",
      "metadata": {
        "id": "UKn3dF88t61d",
        "colab_type": "code",
        "colab": {}
      },
      "source": [
        "data_clas = load_data(path, 'data_clas.pkl', bs=bs)"
      ],
      "execution_count": 0,
      "outputs": []
    },
    {
      "cell_type": "code",
      "metadata": {
        "id": "czkDuZMDt61k",
        "colab_type": "code",
        "colab": {
          "base_uri": "https://localhost:8080/",
          "height": 380
        },
        "outputId": "76663e39-fc8b-4cf0-b530-ce4fc4d7b595"
      },
      "source": [
        "data_clas.show_batch()"
      ],
      "execution_count": 37,
      "outputs": [
        {
          "output_type": "display_data",
          "data": {
            "text/html": [
              "<table border=\"1\" class=\"dataframe\">\n",
              "  <thead>\n",
              "    <tr style=\"text-align: right;\">\n",
              "      <th>text</th>\n",
              "      <th>target</th>\n",
              "    </tr>\n",
              "  </thead>\n",
              "  <tbody>\n",
              "    <tr>\n",
              "      <td>xxbos xxmaj match 1 : xxmaj tag xxmaj team xxmaj table xxmaj match xxmaj bubba xxmaj ray and xxmaj spike xxmaj dudley vs xxmaj eddie xxmaj guerrero and xxmaj chris xxmaj benoit xxmaj bubba xxmaj ray and xxmaj spike xxmaj dudley started things off with a xxmaj tag xxmaj team xxmaj table xxmaj match against xxmaj eddie xxmaj guerrero and xxmaj chris xxmaj benoit . xxmaj according to the rules</td>\n",
              "      <td>pos</td>\n",
              "    </tr>\n",
              "    <tr>\n",
              "      <td>xxbos xxmaj god ! xxmaj zorro has been the the subject of about as many movies as xxmaj tarzan , and probably had about as many actors in the title role . \\n \\n  xxmaj this xxmaj serial is one of my own personal favourites , and as previously stated , it is one of the xxmaj top 5 xxmaj sound xxmaj serials . xxmaj oddly enough , this</td>\n",
              "      <td>pos</td>\n",
              "    </tr>\n",
              "    <tr>\n",
              "      <td>xxbos xxmaj how strange the human mind is ; this center of activity wherein perceptions of reality are formed and stored , and in which one 's view of the world hinges on the finely tuned functioning of the brain , this most delicate and intricate processor of all things sensory . xxmaj and how much do we really know of it 's inner - workings , of it 's</td>\n",
              "      <td>pos</td>\n",
              "    </tr>\n",
              "    <tr>\n",
              "      <td>xxbos xxmaj pier xxmaj paolo xxmaj pasolini , or xxmaj pee - pee - pee as i prefer to call him ( due to his love of showing male genitals ) , is perhaps xxup the most overrated xxmaj european xxmaj marxist director - and they are thick on the ground . xxmaj how anyone can see \" art \" in this messy , cheap sex - romp concoction is</td>\n",
              "      <td>neg</td>\n",
              "    </tr>\n",
              "    <tr>\n",
              "      <td>xxbos xxmaj anyone who visited drive - ins in the 1950s , 60s , and 70s , must have seen a film or two by xxmaj american xxmaj international xxmaj pictures , a distributor that resembled 1980s giant xxmaj cannon xxmaj films . xxmaj wherever movie - goers ventured , xxup aip would be right there to supply the latest en vogue titles - in the 50s came horror movies</td>\n",
              "      <td>neg</td>\n",
              "    </tr>\n",
              "  </tbody>\n",
              "</table>"
            ],
            "text/plain": [
              "<IPython.core.display.HTML object>"
            ]
          },
          "metadata": {
            "tags": []
          }
        }
      ]
    },
    {
      "cell_type": "markdown",
      "metadata": {
        "id": "Q-4O5cPft61s",
        "colab_type": "text"
      },
      "source": [
        "We can then create a model to classify those reviews and load the encoder we saved before."
      ]
    },
    {
      "cell_type": "code",
      "metadata": {
        "id": "gJXPrJKDt61t",
        "colab_type": "code",
        "colab": {
          "base_uri": "https://localhost:8080/",
          "height": 1000
        },
        "outputId": "8f41e739-0a97-4dc8-cf1f-f1ad05205e87"
      },
      "source": [
        "learn = text_classifier_learner(data_clas, AWD_LSTM, drop_mult=0.5)\n",
        "learn.load_encoder('fine_tuned_enc')"
      ],
      "execution_count": 38,
      "outputs": [
        {
          "output_type": "execute_result",
          "data": {
            "text/plain": [
              "RNNLearner(data=TextClasDataBunch;\n",
              "\n",
              "Train: LabelList (25000 items)\n",
              "x: TextList\n",
              "xxbos i have seen many , many productions of xxmaj the xxmaj nutcracker . xxmaj now perhaps i viewed this movie from the tainted point of view of a theatrical director , but i was disappointed . i 'm sure people in the specific business of ballet choreography find this production impressive but from a purely theatrical perspective i found everything from design to choreography to be lackluster and xxunk of a \" motion picture \" . xxmaj none of the traditionally \" weird \" and impressive costumes looked like what they were supposed to be ( i.e. the candies did n't look like candies , the rats did n't look like rats but rather like chocolate kisses , ) the acting was weak , perhaps toned down too much for the screen , and the choreography just did n't do anything for me . xxmaj this makes the entire show very satisfactory ( at best ) , as if it were intended to not set itself apart from any other production . xxmaj but remember , again , this is from the artistic perspective of a theatrical director , not a dancer or a choreographer , but a straight male theatrical director .,xxbos xxmaj another horror flick in which a goof - ball teenager battles a madman and his supernatural sidekick who want to take over ? ! xxmaj yes , but the fact that this one was from xxmaj canada gives it a slightly different feel . \" xxmaj the xxmaj brain \" has troublesome teenager xxmaj jim xxmaj xxunk getting put into a treatment whose leader turns out to be a cult leader aided by a big ugly \" brain \" . xxmaj can xxmaj jim stop him ? i guess that since our northern neighbor has accomplished all that they have accomplished , they 're entitled to make at least one ridiculous horror movie . xxmaj but still , they 'll probably want to be known for having national health care and all . \n",
              " \n",
              "  xxmaj the bad guy had a brain . xxmaj why did n't the people who made this movie ?,xxbos i saw this movie not knowing anything about it before hand . xxmaj the plot was terrible with large gaps of information missing . xxmaj the movie did n't have the \" battle of wits \" feel to me . xxmaj the actors just spewed out mouthful 's of nonsense , at times causing me to xxunk my teeth in agony as they droned on and on . xxmaj the plot was predictable except for the stomach sickening homo erotic scene at the end ( i 'm not homophobic but made me physically sick to my stomach ) , even the ending was predictable . xxmaj and you could tell the detective was xxmaj jude xxmaj law in a costume , everything from the fake accent , terrible dental work , costume shop facial hair , everything pointed to it being a disguise . xxmaj the whole movie just felt like wasted time out of my life . xxmaj this movie had the feel of a puppet show with xxmaj jude xxmaj law and xxmaj michael xxmaj caine as puppets and the house as the window to view the show , really boooring in my opinion .,xxbos xxup star xxup rating : xxrep 5 * xxmaj the xxmaj works xxrep 4 * xxmaj just xxmaj misses the xxmaj mark * * * xxmaj that xxmaj little xxmaj bit xxmaj in xxmaj between * * xxmaj lagging xxmaj behind * xxmaj the xxmaj pits \n",
              " \n",
              "  xxmaj in this debut effort for xxmaj nick xxmaj park 's beloved man and dog , they are forced to fly to the moon when good old xxmaj wallace runs out of cheese . \n",
              " \n",
              "  xxmaj as well as being the shortest feature at just 22 minutes , this w / g adventure is also the earliest and it kinda shows . xxmaj the plasticine animation is a little creaky and funny here , sort of reminiscent of the xxmaj mork animation about the little man in the box . \n",
              " \n",
              "  xxmaj admirable though the craftsmanship behind it is , i 've never actually been hugely into xxmaj wallace & xxmaj gromit ( maybe a bit too clean and traditional for someone of my generation . ) xxmaj the only one i 've really enjoyed is xxmaj the xxmaj wrong xxmaj trousers ( and that was more from when i was younger and less aware of , shall we say , the seedier pleasures of life . ) i was driven to actively seek out this early effort due to the resurgence in popularity as a result of the hugely successful recent film adaptation . \n",
              " \n",
              "  xxmaj as technically impressive as the first two ( all things considered ! ) this one lacks the emotional angle it 's successors were to possess . xxmaj that being said , it 's fairly good fun as a first try and certainly set the standard for greater things to come . xxmaj two stars , but a good two stars . * *,xxbos xxmaj saw this movie when it first came out in the 1970 's and hated , hated , hated it ! xxmaj easily the most b xxrep 4 o ring movie i have ever seen in my life . xxmaj do n't know where xxmaj leigh got his inspiration but this is one of those movies where you want to shake the characters to get them to open their mouths and communicate . xxmaj the title says it all because there are no saving moments in this movie , just long , long silences with people unable to articulate what they are ( presumably ) feeling . xxmaj if you want to watch something that will drive you to drink then this is the one for you . xxmaj if you have nothing better to do for two hours then stick a fork in a toaster : the experience will be infinitely more pleasurable than anything you will get from this ! xxmaj yes , xxmaj leigh came up with a lot of really worthwhile stuff much later in his career but give this one a miss .\n",
              "y: CategoryList\n",
              "neg,neg,neg,neg,neg\n",
              "Path: /root/.fastai/data/imdb;\n",
              "\n",
              "Valid: LabelList (25000 items)\n",
              "x: TextList\n",
              "xxbos xxmaj parrots ? xxup parrots ? i have been around this old earth longer than most and have seen nearly all the westerns that have have produced . xxmaj old xxmaj west history is my passion . xxmaj comanche xxmaj moon is one of the most poorly produced , directed and acted stories i have ever seen . xxmaj there was very little historical accuracy but then , it is obvious you were operating on a shoestring budget which \n",
              " \n",
              "  played a distinct roll in this insult to intelligence . i am happy that i tivo'd this show . xxmaj it was bad enough having to sit and watch the movie plus put up with the inane commercials . xxmaj once again , there was not one actor that came anywhere near convincing . i kept hoping it would improve as the three days progressed . xxup wrong ! i 'm ashamed to say i wasted 4 1 / 2 hours of what precious little time i have left .,xxbos xxmaj there seems to be a whole sub genre of cheap , tired old sex \" comedies \" out there , that say the same old things about middle class couples . xxmaj sort of like xxmaj friends , but with more soft porn and no wit . xxmaj this film is no exception- it had situations so familiar i died from deja vu . xxmaj people sat on couches , spinning out clichés about sex and relationships ? xxmaj check . xxmaj monogamy versus cheating with some woman / man who would never look twice in reality at some other woman / man ? xxmaj check . xxup porn xxmaj the xxup baddies xxrep 4 ! 111 ? xxmaj check . xxmaj some guy / girl in it who happens to be the only reason you 're watching this rubbish ? xxmaj check . xxmaj the lesson seems to be- when it doubt , make a tired old sex \" comedy \" about people no one cares anything about , in order to make some statement that everybody has already heard three thousand times before . xxmaj that 'll get your film made . xxmaj it 'll even attract some sitcom nobody in a bad wig !,xxbos xxmaj plot : xxmaj none . xxmaj script : a string of cliches . xxmaj acting : xxmaj not in evidence . xxmaj special effects : xxmaj title sequence kind of cool , but otherwise exceptionally poor . xxmaj fright factor : xxmaj crossing the road is scarier . xxmaj cult factor : xxmaj only the most desperate cult would latch onto this dog . xxmaj ca n't you say anything positive : i did . xxmaj the titles were kind of cool . \n",
              " \n",
              "  ( xxmaj special bonus question ... your idea of hell : xxmaj being at a party with people who voted this flop a 7 . ),xxbos xxmaj snakes on a xxmaj train ( 2006 , xxmaj dir . xxmaj the xxmaj mallachi xxmaj brothers ) a xxmaj zombie curse is placed upon a woman , which causes her to have living snakes inside her . xxmaj brujo , who is looking after her , attempts to take her to xxmaj los xxmaj angeles on the train . xxmaj after several confrontations on the train , xxmaj brujo 's collection of snakes manage to separate themselves from their owner and go on the hunt . xxmaj whilst all this is happening , normal , everyday passengers are relaxing , what is unknown to them is that something deadly is heading their way , and that their is no were out . \n",
              " \n",
              "  xxmaj after watching the wonderfully fun ' xxmaj snakes on a xxmaj plane ' , i had to check this out . i knew it was going to be a rip - off and that the film will look cheap , but what i found was worst to watch . xxmaj the whole curse plot was silly and should never have been included . xxmaj the special effects are n't terrible but are not the best looking . i did not have a clue about the ending . xxmaj it was silly to watch and pathetic . xxmaj the acting was absolutely terrible , and looked bad . xxmaj they just could not act to save their lives . xxmaj if you want a great laugh , watch this , otherwise you should really avoid this . \n",
              " \n",
              "  \" xxmaj we have a runaway train . i repeat . xxmaj we have a runaway train . \" - xxmaj conductor ( xxmaj stephen xxup xxunk xxmaj day ),xxbos \n",
              " \n",
              "  xxmaj man , i just ca nt believe this movie . i have watched it entirely ( believe me , i have done this ! ) and the best part was the xxunk on the beginning ( and i hate xxunk xxrep 4 ! ) . \n",
              " \n",
              "  xxmaj no plot , no acting , no nothing . i was watching the movie and thinking , \" xxmaj when this is going to start \" ? xxmaj it never started . xxmaj how people can spend money and time to make such a crap ? \n",
              " \n",
              "  xxmaj the \" plot \" : a xxmaj dog gets bitten by a bat and get rabies - xxmaj okay , until now no problem , nothing special but xxup ok . xxmaj now the rest of the movie will be - the xxmaj dog will chase people ! ! ! that s it , nothing else ! ! ! xxmaj now add to this some of the worse actings / actors i have ever seem , some completely xxunk scenes ( and some others really idiotic , like the child ca nt breath and the mother gives him a big and strong hug to see if he gets better ) , and a very lame ending , that s it , here you have xxup crap ... ops ! xxrep 4 . xxup cujo . \n",
              " \n",
              "  xxmaj do your self a favor and make something more worthy , like xxunk your head against the wall or play chess with yourself . \n",
              " \n",
              "  xxup zero out of 10 . \n",
              " \n",
              "  xxmaj gabriel .\n",
              "y: CategoryList\n",
              "neg,neg,neg,neg,neg\n",
              "Path: /root/.fastai/data/imdb;\n",
              "\n",
              "Test: None, model=SequentialRNN(\n",
              "  (0): MultiBatchEncoder(\n",
              "    (module): AWD_LSTM(\n",
              "      (encoder): Embedding(60000, 400, padding_idx=1)\n",
              "      (encoder_dp): EmbeddingDropout(\n",
              "        (emb): Embedding(60000, 400, padding_idx=1)\n",
              "      )\n",
              "      (rnns): ModuleList(\n",
              "        (0): WeightDropout(\n",
              "          (module): LSTM(400, 1152, batch_first=True)\n",
              "        )\n",
              "        (1): WeightDropout(\n",
              "          (module): LSTM(1152, 1152, batch_first=True)\n",
              "        )\n",
              "        (2): WeightDropout(\n",
              "          (module): LSTM(1152, 400, batch_first=True)\n",
              "        )\n",
              "      )\n",
              "      (input_dp): RNNDropout()\n",
              "      (hidden_dps): ModuleList(\n",
              "        (0): RNNDropout()\n",
              "        (1): RNNDropout()\n",
              "        (2): RNNDropout()\n",
              "      )\n",
              "    )\n",
              "  )\n",
              "  (1): PoolingLinearClassifier(\n",
              "    (layers): Sequential(\n",
              "      (0): BatchNorm1d(1200, eps=1e-05, momentum=0.1, affine=True, track_running_stats=True)\n",
              "      (1): Dropout(p=0.2, inplace=False)\n",
              "      (2): Linear(in_features=1200, out_features=50, bias=True)\n",
              "      (3): ReLU(inplace=True)\n",
              "      (4): BatchNorm1d(50, eps=1e-05, momentum=0.1, affine=True, track_running_stats=True)\n",
              "      (5): Dropout(p=0.1, inplace=False)\n",
              "      (6): Linear(in_features=50, out_features=2, bias=True)\n",
              "    )\n",
              "  )\n",
              "), opt_func=functools.partial(<class 'torch.optim.adam.Adam'>, betas=(0.9, 0.99)), loss_func=FlattenedLoss of CrossEntropyLoss(), metrics=[<function accuracy at 0x7fa335403ea0>], true_wd=True, bn_wd=True, wd=0.01, train_bn=True, path=PosixPath('/root/.fastai/data/imdb'), model_dir='models', callback_fns=[functools.partial(<class 'fastai.basic_train.Recorder'>, add_time=True, silent=False)], callbacks=[RNNTrainer\n",
              "learn: RNNLearner(data=TextClasDataBunch;\n",
              "\n",
              "Train: LabelList (25000 items)\n",
              "x: TextList\n",
              "xxbos i have seen many , many productions of xxmaj the xxmaj nutcracker . xxmaj now perhaps i viewed this movie from the tainted point of view of a theatrical director , but i was disappointed . i 'm sure people in the specific business of ballet choreography find this production impressive but from a purely theatrical perspective i found everything from design to choreography to be lackluster and xxunk of a \" motion picture \" . xxmaj none of the traditionally \" weird \" and impressive costumes looked like what they were supposed to be ( i.e. the candies did n't look like candies , the rats did n't look like rats but rather like chocolate kisses , ) the acting was weak , perhaps toned down too much for the screen , and the choreography just did n't do anything for me . xxmaj this makes the entire show very satisfactory ( at best ) , as if it were intended to not set itself apart from any other production . xxmaj but remember , again , this is from the artistic perspective of a theatrical director , not a dancer or a choreographer , but a straight male theatrical director .,xxbos xxmaj another horror flick in which a goof - ball teenager battles a madman and his supernatural sidekick who want to take over ? ! xxmaj yes , but the fact that this one was from xxmaj canada gives it a slightly different feel . \" xxmaj the xxmaj brain \" has troublesome teenager xxmaj jim xxmaj xxunk getting put into a treatment whose leader turns out to be a cult leader aided by a big ugly \" brain \" . xxmaj can xxmaj jim stop him ? i guess that since our northern neighbor has accomplished all that they have accomplished , they 're entitled to make at least one ridiculous horror movie . xxmaj but still , they 'll probably want to be known for having national health care and all . \n",
              " \n",
              "  xxmaj the bad guy had a brain . xxmaj why did n't the people who made this movie ?,xxbos i saw this movie not knowing anything about it before hand . xxmaj the plot was terrible with large gaps of information missing . xxmaj the movie did n't have the \" battle of wits \" feel to me . xxmaj the actors just spewed out mouthful 's of nonsense , at times causing me to xxunk my teeth in agony as they droned on and on . xxmaj the plot was predictable except for the stomach sickening homo erotic scene at the end ( i 'm not homophobic but made me physically sick to my stomach ) , even the ending was predictable . xxmaj and you could tell the detective was xxmaj jude xxmaj law in a costume , everything from the fake accent , terrible dental work , costume shop facial hair , everything pointed to it being a disguise . xxmaj the whole movie just felt like wasted time out of my life . xxmaj this movie had the feel of a puppet show with xxmaj jude xxmaj law and xxmaj michael xxmaj caine as puppets and the house as the window to view the show , really boooring in my opinion .,xxbos xxup star xxup rating : xxrep 5 * xxmaj the xxmaj works xxrep 4 * xxmaj just xxmaj misses the xxmaj mark * * * xxmaj that xxmaj little xxmaj bit xxmaj in xxmaj between * * xxmaj lagging xxmaj behind * xxmaj the xxmaj pits \n",
              " \n",
              "  xxmaj in this debut effort for xxmaj nick xxmaj park 's beloved man and dog , they are forced to fly to the moon when good old xxmaj wallace runs out of cheese . \n",
              " \n",
              "  xxmaj as well as being the shortest feature at just 22 minutes , this w / g adventure is also the earliest and it kinda shows . xxmaj the plasticine animation is a little creaky and funny here , sort of reminiscent of the xxmaj mork animation about the little man in the box . \n",
              " \n",
              "  xxmaj admirable though the craftsmanship behind it is , i 've never actually been hugely into xxmaj wallace & xxmaj gromit ( maybe a bit too clean and traditional for someone of my generation . ) xxmaj the only one i 've really enjoyed is xxmaj the xxmaj wrong xxmaj trousers ( and that was more from when i was younger and less aware of , shall we say , the seedier pleasures of life . ) i was driven to actively seek out this early effort due to the resurgence in popularity as a result of the hugely successful recent film adaptation . \n",
              " \n",
              "  xxmaj as technically impressive as the first two ( all things considered ! ) this one lacks the emotional angle it 's successors were to possess . xxmaj that being said , it 's fairly good fun as a first try and certainly set the standard for greater things to come . xxmaj two stars , but a good two stars . * *,xxbos xxmaj saw this movie when it first came out in the 1970 's and hated , hated , hated it ! xxmaj easily the most b xxrep 4 o ring movie i have ever seen in my life . xxmaj do n't know where xxmaj leigh got his inspiration but this is one of those movies where you want to shake the characters to get them to open their mouths and communicate . xxmaj the title says it all because there are no saving moments in this movie , just long , long silences with people unable to articulate what they are ( presumably ) feeling . xxmaj if you want to watch something that will drive you to drink then this is the one for you . xxmaj if you have nothing better to do for two hours then stick a fork in a toaster : the experience will be infinitely more pleasurable than anything you will get from this ! xxmaj yes , xxmaj leigh came up with a lot of really worthwhile stuff much later in his career but give this one a miss .\n",
              "y: CategoryList\n",
              "neg,neg,neg,neg,neg\n",
              "Path: /root/.fastai/data/imdb;\n",
              "\n",
              "Valid: LabelList (25000 items)\n",
              "x: TextList\n",
              "xxbos xxmaj parrots ? xxup parrots ? i have been around this old earth longer than most and have seen nearly all the westerns that have have produced . xxmaj old xxmaj west history is my passion . xxmaj comanche xxmaj moon is one of the most poorly produced , directed and acted stories i have ever seen . xxmaj there was very little historical accuracy but then , it is obvious you were operating on a shoestring budget which \n",
              " \n",
              "  played a distinct roll in this insult to intelligence . i am happy that i tivo'd this show . xxmaj it was bad enough having to sit and watch the movie plus put up with the inane commercials . xxmaj once again , there was not one actor that came anywhere near convincing . i kept hoping it would improve as the three days progressed . xxup wrong ! i 'm ashamed to say i wasted 4 1 / 2 hours of what precious little time i have left .,xxbos xxmaj there seems to be a whole sub genre of cheap , tired old sex \" comedies \" out there , that say the same old things about middle class couples . xxmaj sort of like xxmaj friends , but with more soft porn and no wit . xxmaj this film is no exception- it had situations so familiar i died from deja vu . xxmaj people sat on couches , spinning out clichés about sex and relationships ? xxmaj check . xxmaj monogamy versus cheating with some woman / man who would never look twice in reality at some other woman / man ? xxmaj check . xxup porn xxmaj the xxup baddies xxrep 4 ! 111 ? xxmaj check . xxmaj some guy / girl in it who happens to be the only reason you 're watching this rubbish ? xxmaj check . xxmaj the lesson seems to be- when it doubt , make a tired old sex \" comedy \" about people no one cares anything about , in order to make some statement that everybody has already heard three thousand times before . xxmaj that 'll get your film made . xxmaj it 'll even attract some sitcom nobody in a bad wig !,xxbos xxmaj plot : xxmaj none . xxmaj script : a string of cliches . xxmaj acting : xxmaj not in evidence . xxmaj special effects : xxmaj title sequence kind of cool , but otherwise exceptionally poor . xxmaj fright factor : xxmaj crossing the road is scarier . xxmaj cult factor : xxmaj only the most desperate cult would latch onto this dog . xxmaj ca n't you say anything positive : i did . xxmaj the titles were kind of cool . \n",
              " \n",
              "  ( xxmaj special bonus question ... your idea of hell : xxmaj being at a party with people who voted this flop a 7 . ),xxbos xxmaj snakes on a xxmaj train ( 2006 , xxmaj dir . xxmaj the xxmaj mallachi xxmaj brothers ) a xxmaj zombie curse is placed upon a woman , which causes her to have living snakes inside her . xxmaj brujo , who is looking after her , attempts to take her to xxmaj los xxmaj angeles on the train . xxmaj after several confrontations on the train , xxmaj brujo 's collection of snakes manage to separate themselves from their owner and go on the hunt . xxmaj whilst all this is happening , normal , everyday passengers are relaxing , what is unknown to them is that something deadly is heading their way , and that their is no were out . \n",
              " \n",
              "  xxmaj after watching the wonderfully fun ' xxmaj snakes on a xxmaj plane ' , i had to check this out . i knew it was going to be a rip - off and that the film will look cheap , but what i found was worst to watch . xxmaj the whole curse plot was silly and should never have been included . xxmaj the special effects are n't terrible but are not the best looking . i did not have a clue about the ending . xxmaj it was silly to watch and pathetic . xxmaj the acting was absolutely terrible , and looked bad . xxmaj they just could not act to save their lives . xxmaj if you want a great laugh , watch this , otherwise you should really avoid this . \n",
              " \n",
              "  \" xxmaj we have a runaway train . i repeat . xxmaj we have a runaway train . \" - xxmaj conductor ( xxmaj stephen xxup xxunk xxmaj day ),xxbos \n",
              " \n",
              "  xxmaj man , i just ca nt believe this movie . i have watched it entirely ( believe me , i have done this ! ) and the best part was the xxunk on the beginning ( and i hate xxunk xxrep 4 ! ) . \n",
              " \n",
              "  xxmaj no plot , no acting , no nothing . i was watching the movie and thinking , \" xxmaj when this is going to start \" ? xxmaj it never started . xxmaj how people can spend money and time to make such a crap ? \n",
              " \n",
              "  xxmaj the \" plot \" : a xxmaj dog gets bitten by a bat and get rabies - xxmaj okay , until now no problem , nothing special but xxup ok . xxmaj now the rest of the movie will be - the xxmaj dog will chase people ! ! ! that s it , nothing else ! ! ! xxmaj now add to this some of the worse actings / actors i have ever seem , some completely xxunk scenes ( and some others really idiotic , like the child ca nt breath and the mother gives him a big and strong hug to see if he gets better ) , and a very lame ending , that s it , here you have xxup crap ... ops ! xxrep 4 . xxup cujo . \n",
              " \n",
              "  xxmaj do your self a favor and make something more worthy , like xxunk your head against the wall or play chess with yourself . \n",
              " \n",
              "  xxup zero out of 10 . \n",
              " \n",
              "  xxmaj gabriel .\n",
              "y: CategoryList\n",
              "neg,neg,neg,neg,neg\n",
              "Path: /root/.fastai/data/imdb;\n",
              "\n",
              "Test: None, model=SequentialRNN(\n",
              "  (0): MultiBatchEncoder(\n",
              "    (module): AWD_LSTM(\n",
              "      (encoder): Embedding(60000, 400, padding_idx=1)\n",
              "      (encoder_dp): EmbeddingDropout(\n",
              "        (emb): Embedding(60000, 400, padding_idx=1)\n",
              "      )\n",
              "      (rnns): ModuleList(\n",
              "        (0): WeightDropout(\n",
              "          (module): LSTM(400, 1152, batch_first=True)\n",
              "        )\n",
              "        (1): WeightDropout(\n",
              "          (module): LSTM(1152, 1152, batch_first=True)\n",
              "        )\n",
              "        (2): WeightDropout(\n",
              "          (module): LSTM(1152, 400, batch_first=True)\n",
              "        )\n",
              "      )\n",
              "      (input_dp): RNNDropout()\n",
              "      (hidden_dps): ModuleList(\n",
              "        (0): RNNDropout()\n",
              "        (1): RNNDropout()\n",
              "        (2): RNNDropout()\n",
              "      )\n",
              "    )\n",
              "  )\n",
              "  (1): PoolingLinearClassifier(\n",
              "    (layers): Sequential(\n",
              "      (0): BatchNorm1d(1200, eps=1e-05, momentum=0.1, affine=True, track_running_stats=True)\n",
              "      (1): Dropout(p=0.2, inplace=False)\n",
              "      (2): Linear(in_features=1200, out_features=50, bias=True)\n",
              "      (3): ReLU(inplace=True)\n",
              "      (4): BatchNorm1d(50, eps=1e-05, momentum=0.1, affine=True, track_running_stats=True)\n",
              "      (5): Dropout(p=0.1, inplace=False)\n",
              "      (6): Linear(in_features=50, out_features=2, bias=True)\n",
              "    )\n",
              "  )\n",
              "), opt_func=functools.partial(<class 'torch.optim.adam.Adam'>, betas=(0.9, 0.99)), loss_func=FlattenedLoss of CrossEntropyLoss(), metrics=[<function accuracy at 0x7fa335403ea0>], true_wd=True, bn_wd=True, wd=0.01, train_bn=True, path=PosixPath('/root/.fastai/data/imdb'), model_dir='models', callback_fns=[functools.partial(<class 'fastai.basic_train.Recorder'>, add_time=True, silent=False)], callbacks=[...], layer_groups=[Sequential(\n",
              "  (0): Embedding(60000, 400, padding_idx=1)\n",
              "  (1): EmbeddingDropout(\n",
              "    (emb): Embedding(60000, 400, padding_idx=1)\n",
              "  )\n",
              "), Sequential(\n",
              "  (0): WeightDropout(\n",
              "    (module): LSTM(400, 1152, batch_first=True)\n",
              "  )\n",
              "  (1): RNNDropout()\n",
              "), Sequential(\n",
              "  (0): WeightDropout(\n",
              "    (module): LSTM(1152, 1152, batch_first=True)\n",
              "  )\n",
              "  (1): RNNDropout()\n",
              "), Sequential(\n",
              "  (0): WeightDropout(\n",
              "    (module): LSTM(1152, 400, batch_first=True)\n",
              "  )\n",
              "  (1): RNNDropout()\n",
              "), Sequential(\n",
              "  (0): PoolingLinearClassifier(\n",
              "    (layers): Sequential(\n",
              "      (0): BatchNorm1d(1200, eps=1e-05, momentum=0.1, affine=True, track_running_stats=True)\n",
              "      (1): Dropout(p=0.2, inplace=False)\n",
              "      (2): Linear(in_features=1200, out_features=50, bias=True)\n",
              "      (3): ReLU(inplace=True)\n",
              "      (4): BatchNorm1d(50, eps=1e-05, momentum=0.1, affine=True, track_running_stats=True)\n",
              "      (5): Dropout(p=0.1, inplace=False)\n",
              "      (6): Linear(in_features=50, out_features=2, bias=True)\n",
              "    )\n",
              "  )\n",
              ")], add_time=True, silent=False)\n",
              "alpha: 2.0\n",
              "beta: 1.0], layer_groups=[Sequential(\n",
              "  (0): Embedding(60000, 400, padding_idx=1)\n",
              "  (1): EmbeddingDropout(\n",
              "    (emb): Embedding(60000, 400, padding_idx=1)\n",
              "  )\n",
              "), Sequential(\n",
              "  (0): WeightDropout(\n",
              "    (module): LSTM(400, 1152, batch_first=True)\n",
              "  )\n",
              "  (1): RNNDropout()\n",
              "), Sequential(\n",
              "  (0): WeightDropout(\n",
              "    (module): LSTM(1152, 1152, batch_first=True)\n",
              "  )\n",
              "  (1): RNNDropout()\n",
              "), Sequential(\n",
              "  (0): WeightDropout(\n",
              "    (module): LSTM(1152, 400, batch_first=True)\n",
              "  )\n",
              "  (1): RNNDropout()\n",
              "), Sequential(\n",
              "  (0): PoolingLinearClassifier(\n",
              "    (layers): Sequential(\n",
              "      (0): BatchNorm1d(1200, eps=1e-05, momentum=0.1, affine=True, track_running_stats=True)\n",
              "      (1): Dropout(p=0.2, inplace=False)\n",
              "      (2): Linear(in_features=1200, out_features=50, bias=True)\n",
              "      (3): ReLU(inplace=True)\n",
              "      (4): BatchNorm1d(50, eps=1e-05, momentum=0.1, affine=True, track_running_stats=True)\n",
              "      (5): Dropout(p=0.1, inplace=False)\n",
              "      (6): Linear(in_features=50, out_features=2, bias=True)\n",
              "    )\n",
              "  )\n",
              ")], add_time=True, silent=False)"
            ]
          },
          "metadata": {
            "tags": []
          },
          "execution_count": 38
        }
      ]
    },
    {
      "cell_type": "code",
      "metadata": {
        "id": "xEpqvwz6t61v",
        "colab_type": "code",
        "colab": {
          "base_uri": "https://localhost:8080/",
          "height": 34
        },
        "outputId": "07d052f3-c9a5-4f50-cb77-fb5a82f379eb"
      },
      "source": [
        "learn.lr_find()"
      ],
      "execution_count": 39,
      "outputs": [
        {
          "output_type": "display_data",
          "data": {
            "text/html": [
              ""
            ],
            "text/plain": [
              "<IPython.core.display.HTML object>"
            ]
          },
          "metadata": {
            "tags": []
          }
        },
        {
          "output_type": "stream",
          "text": [
            "LR Finder is complete, type {learner_name}.recorder.plot() to see the graph.\n"
          ],
          "name": "stdout"
        }
      ]
    },
    {
      "cell_type": "code",
      "metadata": {
        "id": "JQOLOwoIt61y",
        "colab_type": "code",
        "colab": {
          "base_uri": "https://localhost:8080/",
          "height": 279
        },
        "outputId": "84127e03-fad6-44c9-cb79-85610f175e0a"
      },
      "source": [
        "learn.recorder.plot()"
      ],
      "execution_count": 40,
      "outputs": [
        {
          "output_type": "display_data",
          "data": {
            "image/png": "[encoded data removed]",
            "text/plain": [
              "<Figure size 432x288 with 1 Axes>"
            ]
          },
          "metadata": {
            "tags": []
          }
        }
      ]
    },
    {
      "cell_type": "code",
      "metadata": {
        "id": "IOduUZB6t612",
        "colab_type": "code",
        "colab": {
          "base_uri": "https://localhost:8080/",
          "height": 81
        },
        "outputId": "aa6950db-bb28-4707-e262-82424ed1a5ab"
      },
      "source": [
        "learn.fit_one_cycle(1, 2e-2, moms=(0.8,0.7))"
      ],
      "execution_count": 41,
      "outputs": [
        {
          "output_type": "display_data",
          "data": {
            "text/html": [
              "<table border=\"1\" class=\"dataframe\">\n",
              "  <thead>\n",
              "    <tr style=\"text-align: left;\">\n",
              "      <th>epoch</th>\n",
              "      <th>train_loss</th>\n",
              "      <th>valid_loss</th>\n",
              "      <th>accuracy</th>\n",
              "      <th>time</th>\n",
              "    </tr>\n",
              "  </thead>\n",
              "  <tbody>\n",
              "    <tr>\n",
              "      <td>0</td>\n",
              "      <td>0.257507</td>\n",
              "      <td>0.196655</td>\n",
              "      <td>0.922880</td>\n",
              "      <td>03:09</td>\n",
              "    </tr>\n",
              "  </tbody>\n",
              "</table>"
            ],
            "text/plain": [
              "<IPython.core.display.HTML object>"
            ]
          },
          "metadata": {
            "tags": []
          }
        }
      ]
    },
    {
      "cell_type": "code",
      "metadata": {
        "id": "SlwNi0CDt615",
        "colab_type": "code",
        "colab": {}
      },
      "source": [
        "learn.save('first')"
      ],
      "execution_count": 0,
      "outputs": []
    },
    {
      "cell_type": "code",
      "metadata": {
        "id": "aLeUWQUut618",
        "colab_type": "code",
        "colab": {}
      },
      "source": [
        "learn.load('first');"
      ],
      "execution_count": 0,
      "outputs": []
    },
    {
      "cell_type": "code",
      "metadata": {
        "id": "Jw_A3igBt61_",
        "colab_type": "code",
        "colab": {
          "base_uri": "https://localhost:8080/",
          "height": 81
        },
        "outputId": "c0ae3c5e-a809-4091-b0ba-24da68c734f9"
      },
      "source": [
        "learn.freeze_to(-2)\n",
        "learn.fit_one_cycle(1, slice(1e-2/(2.6**4),1e-2), moms=(0.8,0.7))"
      ],
      "execution_count": 44,
      "outputs": [
        {
          "output_type": "display_data",
          "data": {
            "text/html": [
              "<table border=\"1\" class=\"dataframe\">\n",
              "  <thead>\n",
              "    <tr style=\"text-align: left;\">\n",
              "      <th>epoch</th>\n",
              "      <th>train_loss</th>\n",
              "      <th>valid_loss</th>\n",
              "      <th>accuracy</th>\n",
              "      <th>time</th>\n",
              "    </tr>\n",
              "  </thead>\n",
              "  <tbody>\n",
              "    <tr>\n",
              "      <td>0</td>\n",
              "      <td>0.230624</td>\n",
              "      <td>0.172653</td>\n",
              "      <td>0.933200</td>\n",
              "      <td>03:45</td>\n",
              "    </tr>\n",
              "  </tbody>\n",
              "</table>"
            ],
            "text/plain": [
              "<IPython.core.display.HTML object>"
            ]
          },
          "metadata": {
            "tags": []
          }
        }
      ]
    },
    {
      "cell_type": "code",
      "metadata": {
        "id": "DBnLzImdt62C",
        "colab_type": "code",
        "colab": {}
      },
      "source": [
        "learn.save('second')"
      ],
      "execution_count": 0,
      "outputs": []
    },
    {
      "cell_type": "code",
      "metadata": {
        "id": "k1Coc7wet62G",
        "colab_type": "code",
        "colab": {}
      },
      "source": [
        "learn.load('second');"
      ],
      "execution_count": 0,
      "outputs": []
    },
    {
      "cell_type": "code",
      "metadata": {
        "id": "z6HNLiXGt62K",
        "colab_type": "code",
        "colab": {
          "base_uri": "https://localhost:8080/",
          "height": 81
        },
        "outputId": "aca34938-b79f-4600-973e-a174283cf704"
      },
      "source": [
        "learn.freeze_to(-3)\n",
        "learn.fit_one_cycle(1, slice(5e-3/(2.6**4),5e-3), moms=(0.8,0.7))"
      ],
      "execution_count": 47,
      "outputs": [
        {
          "output_type": "display_data",
          "data": {
            "text/html": [
              "<table border=\"1\" class=\"dataframe\">\n",
              "  <thead>\n",
              "    <tr style=\"text-align: left;\">\n",
              "      <th>epoch</th>\n",
              "      <th>train_loss</th>\n",
              "      <th>valid_loss</th>\n",
              "      <th>accuracy</th>\n",
              "      <th>time</th>\n",
              "    </tr>\n",
              "  </thead>\n",
              "  <tbody>\n",
              "    <tr>\n",
              "      <td>0</td>\n",
              "      <td>0.184861</td>\n",
              "      <td>0.149590</td>\n",
              "      <td>0.943600</td>\n",
              "      <td>04:30</td>\n",
              "    </tr>\n",
              "  </tbody>\n",
              "</table>"
            ],
            "text/plain": [
              "<IPython.core.display.HTML object>"
            ]
          },
          "metadata": {
            "tags": []
          }
        }
      ]
    },
    {
      "cell_type": "code",
      "metadata": {
        "id": "Mwwq0oB9t62N",
        "colab_type": "code",
        "colab": {}
      },
      "source": [
        "learn.save('third')"
      ],
      "execution_count": 0,
      "outputs": []
    },
    {
      "cell_type": "code",
      "metadata": {
        "id": "WV26GDkNt62Q",
        "colab_type": "code",
        "colab": {}
      },
      "source": [
        "learn.load('third');"
      ],
      "execution_count": 0,
      "outputs": []
    },
    {
      "cell_type": "code",
      "metadata": {
        "id": "CMFAoFd8t62Y",
        "colab_type": "code",
        "colab": {
          "base_uri": "https://localhost:8080/",
          "height": 112
        },
        "outputId": "c008bc39-2ad6-403d-b38c-90e980e8b380"
      },
      "source": [
        "learn.unfreeze()\n",
        "learn.fit_one_cycle(2, slice(1e-3/(2.6**4),1e-3), moms=(0.8,0.7))"
      ],
      "execution_count": 50,
      "outputs": [
        {
          "output_type": "display_data",
          "data": {
            "text/html": [
              "<table border=\"1\" class=\"dataframe\">\n",
              "  <thead>\n",
              "    <tr style=\"text-align: left;\">\n",
              "      <th>epoch</th>\n",
              "      <th>train_loss</th>\n",
              "      <th>valid_loss</th>\n",
              "      <th>accuracy</th>\n",
              "      <th>time</th>\n",
              "    </tr>\n",
              "  </thead>\n",
              "  <tbody>\n",
              "    <tr>\n",
              "      <td>0</td>\n",
              "      <td>0.165902</td>\n",
              "      <td>0.148909</td>\n",
              "      <td>0.944960</td>\n",
              "      <td>05:14</td>\n",
              "    </tr>\n",
              "    <tr>\n",
              "      <td>1</td>\n",
              "      <td>0.142230</td>\n",
              "      <td>0.159216</td>\n",
              "      <td>0.942320</td>\n",
              "      <td>06:26</td>\n",
              "    </tr>\n",
              "  </tbody>\n",
              "</table>"
            ],
            "text/plain": [
              "<IPython.core.display.HTML object>"
            ]
          },
          "metadata": {
            "tags": []
          }
        }
      ]
    },
    {
      "cell_type": "code",
      "metadata": {
        "id": "X7dCdAEGt62c",
        "colab_type": "code",
        "colab": {
          "base_uri": "https://localhost:8080/",
          "height": 34
        },
        "outputId": "d957498c-0fd7-4172-fd66-06270e7e20e4"
      },
      "source": [
        "learn.predict(\"I really loved that movie, it was awesome!\")"
      ],
      "execution_count": 51,
      "outputs": [
        {
          "output_type": "execute_result",
          "data": {
            "text/plain": [
              "(Category pos, tensor(1), tensor([5.8995e-04, 9.9941e-01]))"
            ]
          },
          "metadata": {
            "tags": []
          },
          "execution_count": 51
        }
      ]
    },
    {
      "cell_type": "code",
      "metadata": {
        "id": "PTrX1hCdt62f",
        "colab_type": "code",
        "colab": {}
      },
      "source": [
        ""
      ],
      "execution_count": 0,
      "outputs": []
    }
  ]
}